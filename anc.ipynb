{
  "cells": [
    {
      "cell_type": "markdown",
      "metadata": {
        "id": "view-in-github",
        "colab_type": "text"
      },
      "source": [
        "<a href=\"https://colab.research.google.com/github/junzer0/23-HP-017/blob/main/anc.ipynb\" target=\"_parent\"><img src=\"https://colab.research.google.com/assets/colab-badge.svg\" alt=\"Open In Colab\"/></a>"
      ]
    },
    {
      "cell_type": "code",
      "execution_count": null,
      "id": "e932b10e",
      "metadata": {
        "id": "e932b10e"
      },
      "outputs": [],
      "source": [
        "#데이터 수집 및 전처리"
      ]
    },
    {
      "cell_type": "code",
      "execution_count": null,
      "id": "d30dfdd9",
      "metadata": {
        "id": "d30dfdd9"
      },
      "outputs": [],
      "source": [
        "\n",
        "#******보완사항******\n",
        "#저장된 stft데이터를 csv파일로 제작\n",
        "\n",
        "#필요사항 import\n",
        "import numpy as np\n",
        "import pandas as pd\n",
        "import librosa\n",
        "\n",
        "#오디오 데이터를 stft처리하는 함수\n",
        "def load_data(file_path, sr=16000, duration=10):\n",
        "    audio, _ = librosa.load(file_path, sr=sr, duration=duration)\n",
        "    stft_data = librosa.stft(audio)\n",
        "    return stft_data\n",
        "\n",
        "#stft데이터를 csv파일로 변환하는 함수\n",
        "def create_csv_from_stft(stft_data, output_csv_path, split_duration=0.1):\n",
        "    num_splits = stft_data.shape[1]\n",
        "\n",
        "    data_list = []\n",
        "    for i in range(num_splits):\n",
        "        magnitude = np.abs(stft_data[:, i])\n",
        "        phase = np.angle(stft_data[:, i])\n",
        "        time = i * split_duration\n",
        "        data_list.append([time, magnitude, phase])\n",
        "\n",
        "    df = pd.DataFrame(data_list, columns=[\"time\", \"magnitude\", \"phase\"])\n",
        "    df.to_csv(output_csv_path, index=False)\n",
        "\n",
        "#인풋 파일 경로와 출력 CSV 파일 경로를 지정\n",
        "input_external_file = 'external_noise.wav'\n",
        "input_internal_file = 'internal_noise.wav'\n",
        "external_csv = 'external_noise_stft.csv'\n",
        "internal_csv = 'internal_noise_stft.csv'\n",
        "\n",
        "# 데이터 로드 및 STFT 분석을 수행\n",
        "external_noise_data = load_data('external_noise.wav')\n",
        "internal_noise_data = load_data('internal_noise.wav')\n",
        "\n",
        "# STFT 데이터를 CSV 파일로 저장 수행\n",
        "create_csv_from_stft(external_noise_data, external_csv)\n",
        "create_csv_from_stft(internal_noise_data, internal_csv)\n",
        "\n",
        "#저장한 csv파일을 코드에 사용 가능하도록 불러오기\n",
        "external_usable=pd.read_csv(\"external.csv\")\n",
        "internal_usable=pd.read_csv(\"internal.csv\")"
      ]
    },
    {
      "cell_type": "code",
      "execution_count": null,
      "id": "9b831985",
      "metadata": {
        "id": "9b831985"
      },
      "outputs": [],
      "source": [
        "#LSTM 모델 구축"
      ]
    },
    {
      "cell_type": "code",
      "execution_count": null,
      "id": "f2375db2",
      "metadata": {
        "id": "f2375db2"
      },
      "outputs": [],
      "source": [
        "#시각화 및 데이터 전처리 도구 IMPORT\n",
        "\n",
        "import math\n",
        "import matplotlib.pyplot as plt\n",
        "import keras\n",
        "import pandas as pd\n",
        "import numpy as np\n",
        "\n",
        "#딥러닝 모델 제작 툴 라이브러리 IMPORT\n",
        "\n",
        "from keras.models import Sequential\n",
        "from keras.layers import Dense\n",
        "from keras.layers import Dropout\n",
        "from keras.layers import *\n",
        "\n",
        "#LSTM 라이브러리 IMPORT\n",
        "\n",
        "from keras.layers import LSTM\n",
        "\n",
        "#세부사항 라이브러리 IMPORT\n",
        "\n",
        "from sklearn.preprocessing import MinMaxScaler\n",
        "from sklearn.metrics import mean_squared_error\n",
        "from sklearn.metrics import mean_absolute_error\n",
        "from sklearn.model_selection import train_test_split\n",
        "from keras.callbacks import EarlyStopping"
      ]
    },
    {
      "cell_type": "code",
      "execution_count": null,
      "id": "bd205206",
      "metadata": {
        "id": "bd205206"
      },
      "outputs": [],
      "source": [
        "# Feature를 Scaling\n",
        "\n",
        "sc = MinMaxScaler(feature_range = (0, 1))\n",
        "\n",
        "external_noise_data_scaled = sc.fit_transform(external_usable)\n"
      ]
    },
    {
      "cell_type": "code",
      "execution_count": null,
      "id": "0b96c29e",
      "metadata": {
        "id": "0b96c29e"
      },
      "outputs": [],
      "source": [
        "\n",
        "\n",
        "#LSTM 모델 제작\n",
        "\n",
        "model = Sequential()\n",
        "\n",
        "#첫번째 LSTM layer 추가\n",
        "\n",
        "model.add(LSTM(units = 50, return_sequences = True, input_shape = (X_train.shape[1], 1),activation='tanh'))\n",
        "\n",
        "model.add(Dropout(0.2))  #20퍼센트의 뉴런을 off 한다( 오버피팅을 막기 위해)\n",
        "\n",
        "#두번째 LSTM layer 추가\n",
        "\n",
        "model.add(LSTM(units = 50, return_sequences = True,activation='tanh'))\n",
        "\n",
        "model.add(Dropout(0.2))  #20퍼센트의 뉴런을 off 한다( 오버피팅을 막기 위해)\n",
        "\n",
        "#세번째 LSTM layer 추가\n",
        "\n",
        "model.add(LSTM(units = 50, return_sequences = True,activation='tanh'))\n",
        "\n",
        "model.add(Dropout(0.2))  #20퍼센트의 뉴런을 off 한다( 오버피팅을 막기 위해)\n",
        "\n",
        "#네번째 LSTM layer 추가\n",
        "\n",
        "model.add(LSTM(units = 50))\n",
        "\n",
        "model.add(Dropout(0.2))  #20퍼센트의 뉴런을 off 한다( 오버피팅을 막기 위해)\n",
        "\n",
        "#output layer 설정\n",
        "\n",
        "model.add(Dense(units = 1))\n",
        "\n",
        "#RNN 컴파일링\n",
        "\n",
        "model.compile(optimizer='adam',loss='mean_squared_error')\n",
        "\n",
        "\n",
        "#모델 적용 및 훈련 시작\n",
        "\n",
        "model.fit(external_noise_data_scaled, internal_usable, epochs = 100, batch_size = 32)\n"
      ]
    },
    {
      "cell_type": "code",
      "execution_count": null,
      "id": "fb8c544b",
      "metadata": {
        "id": "fb8c544b"
      },
      "outputs": [],
      "source": [
        "#예측 모델 생성 및 학습\n",
        "#학습은 이미 완료된 모델을 사용하므로 또 필요 X\n",
        "\n",
        "anc_model = model\n",
        "\n",
        "def apply_anc(external_noise_data_scaled, anc_model):\n",
        "    predicted_internal_noise = anc_model.predict(external_noise_data_scaled)\n",
        "    return predicted_internal_noise\n",
        "\n",
        "predicted_internal_noise = apply_anc(external_noise_data_scaled, anc_model)\n",
        "\n"
      ]
    },
    {
      "cell_type": "code",
      "execution_count": null,
      "id": "2f0596c1",
      "metadata": {
        "id": "2f0596c1"
      },
      "outputs": [],
      "source": [
        "# 예측된 내부 소음과 실제 내부 소음을 비교(시각화)\n",
        "\n",
        "\n",
        "#시각화\n",
        "\n",
        "plt.plot(internal_usable.loc[0:, 'time'],internal_usable, color = 'red', label = 'Real internal noise')\n",
        "\n",
        "plt.plot(internal_usable.loc[0:, 'time'],predicted_internal_noise, color = 'blue', label = 'Predicted internal noise')\n",
        "\n",
        "plt.xticks(np.arange(0,len(internal_usable),50))\n",
        "\n",
        "plt.title('Prediction for internal_noise')\n",
        "\n",
        "plt.xlabel('Time')\n",
        "\n",
        "plt.ylabel('internal noise')\n",
        "\n",
        "plt.legend()\n",
        "\n",
        "plt.show()\n"
      ]
    },
    {
      "cell_type": "code",
      "source": [
        "# 내부 소음 차이 값 도출\n",
        "denoised_internal_noise = internal_noise_data - predicted_internal_noise # LSTM으로 돌려서 차이값 줄여보는 방안도 있을듯.\n",
        "\n",
        "# ISTFT 변환\n",
        "def istft(stft_matrix):\n",
        "    return librosa.istft(stft_matrix)\n",
        "\n",
        "# 예측 내부 소음의 역위상을 시간 도메인 신호로 변환\n",
        "anc_audio = istft(predicted_internal_noise)\n",
        "\n",
        "# 결과 저장\n",
        "sf.write('anc_audio.wav', anc_audio, 16000)"
      ],
      "metadata": {
        "id": "6cOnrBH_HkFD"
      },
      "id": "6cOnrBH_HkFD",
      "execution_count": null,
      "outputs": []
    }
  ],
  "metadata": {
    "kernelspec": {
      "display_name": "Python 3 (ipykernel)",
      "language": "python",
      "name": "python3"
    },
    "language_info": {
      "codemirror_mode": {
        "name": "ipython",
        "version": 3
      },
      "file_extension": ".py",
      "mimetype": "text/x-python",
      "name": "python",
      "nbconvert_exporter": "python",
      "pygments_lexer": "ipython3",
      "version": "3.9.17"
    },
    "colab": {
      "provenance": [],
      "include_colab_link": true
    }
  },
  "nbformat": 4,
  "nbformat_minor": 5
}